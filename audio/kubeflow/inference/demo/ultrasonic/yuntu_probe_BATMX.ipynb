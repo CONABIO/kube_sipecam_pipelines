{
 "cells": [
  {
   "cell_type": "code",
   "execution_count": null,
   "metadata": {
    "tags": [
     "imports"
    ]
   },
   "outputs": [],
   "source": [
    "import os\n",
    "import json\n",
    "import time\n",
    "import pandas as pd\n",
    "from dask_cuda import LocalCUDACluster\n",
    "from dask.distributed import Client\n",
    "from yuntu.collection.methods import collection\n",
    "from yuntu.soundscape.pipelines.probe_annotate import ProbeAnnotate"
   ]
  },
  {
   "cell_type": "code",
   "execution_count": null,
   "metadata": {
    "tags": [
     "pipeline-parameters"
    ]
   },
   "outputs": [],
   "source": [
    "COL_CONFIG = \"/shared_volume/audio-develop-backup-09-06-2021/demo/snmb/configs/col_config.json\"\n",
    "PROBE_CONFIG_DETECTION = \"/shared_volume/audio-develop-backup-09-06-2021/demo/snmb/configs/probe_config_detection.json\"\n",
    "PROBE_CONFIG_CLASSIFICATION = \"/shared_volume/audio-develop-backup-09-06-2021/demo/snmb/configs/probe_config_classification.json\"\n",
    "BASE_DIR = \"/shared_volume/audio-develop-backup-09-06-2021/demo/snmb/results\"\n",
    "CONGLOMERATE_ID = '117960'\n",
    "MIN_RECORD_DURATION = 0.005"
   ]
  },
  {
   "cell_type": "code",
   "execution_count": null,
   "metadata": {
    "tags": [
     "functions"
    ]
   },
   "outputs": [],
   "source": [
    "def probe_conglomerate(conglomerate_id, pipe_name, base_dir, \n",
    "                       probe_config_path, col_config_path, col_query,\n",
    "                       npartitions, client=None):\n",
    "    with open(probe_config_path) as file:\n",
    "        probe_config = json.load(file)\n",
    "\n",
    "    with open(col_config_path) as file:\n",
    "        col_config = json.load(file)\n",
    "\n",
    "    work_dir = os.path.join(base_dir, conglomerate_id)\n",
    "    \n",
    "    if not os.path.exists(work_dir):\n",
    "        os.makedirs(work_dir)\n",
    "\n",
    "#     log_path = os.path.join(work_dir, pipe_name, \"process.log\")\n",
    "#     probe_config[\"kwargs\"] = {\"log_file\": log_path}\n",
    "    \n",
    "    col = collection(**col_config)\n",
    "    nrecordings = col.db_manager.select(col_query, model=\"recording\").count()\n",
    "    col.db_manager.db.disconnect()\n",
    "\n",
    "    print(f\"Working with conglomerate {conglomerate_id}. Total files: {nrecordings}\")\n",
    "    \n",
    "    info_path = os.path.join(work_dir, pipe_name, \"info.json\")\n",
    "    tpath = os.path.join(work_dir, pipe_name, \"persist\", \"annotation_result.parquet\")\n",
    "\n",
    "    start = time.time()\n",
    "    if nrecordings > 0:\n",
    "        pipeline =  ProbeAnnotate(pipe_name, probe_config, col_config, col_query, work_dir=work_dir)\n",
    "\n",
    "        if not os.path.exists(tpath):\n",
    "            annotation_result = pipeline[\"annotation_result\"].compute(client=client,\n",
    "                                                                      feed={\"npartitions\": npartitions})\n",
    "        else:\n",
    "            print(\"Data already processed. Reading results...\")\n",
    "            annotation_result = pipeline[\"annotation_result\"].read().compute()\n",
    "\n",
    "            with open(info_path) as json_file:\n",
    "                info = json.load(json_file)\n",
    "            \n",
    "            return annotation_result, info\n",
    "\n",
    "    else:\n",
    "        print(f\"No matched ultrasonic recordings in conglomerate {conglomerate_id}.\")\n",
    "        annotation_result = None\n",
    "\n",
    "    end = time.time()\n",
    "    elapsed = end - start\n",
    "\n",
    "    info = {\"conglomerate_id\": conglomerate_id,\n",
    "            \"total_files\": nrecordings,\n",
    "            \"elapsed_time\": elapsed}\n",
    "\n",
    "    if annotation_result is not None:\n",
    "        with open(info_path, 'w') as outfile:\n",
    "            json.dump(info, outfile)\n",
    "\n",
    "    return annotation_result, info"
   ]
  },
  {
   "cell_type": "code",
   "execution_count": null,
   "metadata": {
    "tags": [
     "block:apply_detection",
     "limit:nvidia.com/gpu:1"
    ]
   },
   "outputs": [],
   "source": [
    "cluster = LocalCUDACluster()\n",
    "client = Client(cluster)\n",
    "npartitions = len(client.ncores())\n",
    "\n",
    "det_col_query = eval(F'''(lambda recording: recording.metadata[\"conglomerado\"][\"nombre\"] == \"{CONGLOMERATE_ID}\"\n",
    "                     and recording.spectrum == \"ultrasonic\"\n",
    "                     and recording.media_info[\"duration\"] > {MIN_RECORD_DURATION})''')\n",
    "detection_result, detection_info = probe_conglomerate(CONGLOMERATE_ID,\n",
    "                                                      \"BATMX_probe\",\n",
    "                                                      BASE_DIR,\n",
    "                                                      PROBE_CONFIG_DETECTION,\n",
    "                                                      COL_CONFIG,\n",
    "                                                      det_col_query,\n",
    "                                                      npartitions,\n",
    "                                                      client=client)"
   ]
  },
  {
   "cell_type": "code",
   "execution_count": null,
   "metadata": {
    "tags": [
     "block:apply_class",
     "prev:apply_detection",
     "limit:nvidia.com/gpu:1"
    ]
   },
   "outputs": [],
   "source": [
    "cluster = LocalCUDACluster()\n",
    "client = Client(cluster)\n",
    "npartitions = len(client.ncores())\n",
    "\n",
    "class_col_query = eval(F'''(lambda recording: recording.metadata[\"conglomerado\"][\"nombre\"] == \"{CONGLOMERATE_ID}\"\n",
    "                       and recording.spectrum == \"ultrasonic\"\n",
    "                       and len(recording.annotations)>0\n",
    "                       and recording.media_info[\"duration\"] > {MIN_RECORD_DURATION})''')\n",
    "class_result, class_info = probe_conglomerate(CONGLOMERATE_ID,\n",
    "                                              \"BATMX_class_probe\",\n",
    "                                              BASE_DIR,\n",
    "                                              PROBE_CONFIG_CLASSIFICATION,\n",
    "                                              COL_CONFIG,\n",
    "                                              class_col_query,\n",
    "                                              npartitions,\n",
    "                                              client=client)"
   ]
  },
  {
   "cell_type": "code",
   "execution_count": null,
   "metadata": {},
   "outputs": [],
   "source": []
  }
 ],
 "metadata": {
  "kernelspec": {
   "display_name": "Python 3",
   "language": "python",
   "name": "python3"
  },
  "kubeflow_notebook": {
   "autosnapshot": false,
   "docker_image": "sipecam/audio-dgpi-kale-tensorflow-yuntu-dask-gpu-cert:0.6.1",
   "experiment": {
    "id": "new",
    "name": "probe-117960"
   },
   "experiment_name": "probe-117960",
   "katib_metadata": {
    "algorithm": {
     "algorithmName": "grid"
    },
    "maxFailedTrialCount": 3,
    "maxTrialCount": 12,
    "objective": {
     "objectiveMetricName": "",
     "type": "minimize"
    },
    "parallelTrialCount": 3,
    "parameters": []
   },
   "katib_run": false,
   "pipeline_description": "Apply detection and classification using tensorflow models.",
   "pipeline_name": "batmx-probe",
   "snapshot_volumes": false,
   "steps_defaults": [],
   "volume_access_mode": "rwm",
   "volumes": [
    {
     "annotations": [],
     "mount_point": "/shared_volume",
     "name": "hostpath-pvc",
     "size": 1,
     "size_type": "Gi",
     "snapshot": false,
     "snapshot_name": "",
     "type": "pvc"
    }
   ]
  },
  "language_info": {
   "codemirror_mode": {
    "name": "ipython",
    "version": 3
   },
   "file_extension": ".py",
   "mimetype": "text/x-python",
   "name": "python",
   "nbconvert_exporter": "python",
   "pygments_lexer": "ipython3",
   "version": "3.6.9"
  }
 },
 "nbformat": 4,
 "nbformat_minor": 4
}
