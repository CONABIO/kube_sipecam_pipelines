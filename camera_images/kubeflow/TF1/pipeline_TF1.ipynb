{
 "cells": [
  {
   "cell_type": "code",
   "execution_count": null,
   "metadata": {
    "tags": [
     "imports"
    ]
   },
   "outputs": [],
   "source": [
    "import os\n",
    "\n",
    "from conabio_ml_vision.datasets.datasets import ImageDataset, ImagePredictionDataset\n",
    "from conabio_ml_vision.trainer.model import run_megadetector_inference\n",
    "from conabio_ml.utils.dataset_utils import read_labelmap_file\n",
    "\n",
    "BASE_PATH = '/shared_volume/ecoinf_tests/kale_aws/'\n",
    "\n",
    "# Results\n",
    "results_path = os.path.join(BASE_PATH, \"results\", \"pipeline_1_TF1\")\n",
    "dataset_csv = os.path.join(results_path, \"dataset.csv\")\n",
    "dets_md_csv = os.path.join(results_path, \"detections_megadet.csv\")\n",
    "# Data\n",
    "snmb_images_dir = os.path.join(BASE_PATH, 'data', \"snmb\")\n",
    "snmb_crops_dir = os.path.join(BASE_PATH, 'data', \"snmb_crops_megadetector\")\n",
    "# Files\n",
    "snmb_json = os.path.join(BASE_PATH, \"files\", \"snmb_2021_detection-bboxes.json\")\n",
    "mappings_csv = os.path.join(BASE_PATH, \"files\", \"snmb_to_wcs_compet.csv\")\n",
    "compet_labelmap_file = os.path.join(BASE_PATH, \"files\", \"compet_labels.txt\")\n",
    "detector_model_path = os.path.join(BASE_PATH, \"files\", \"megadetector_v4.pb\")\n",
    "\n",
    "os.makedirs(results_path, exist_ok=True)\n",
    "\n",
    "min_score_threshold = 0.3"
   ]
  },
  {
   "cell_type": "code",
   "execution_count": null,
   "metadata": {
    "tags": [
     "block:dataset"
    ]
   },
   "outputs": [],
   "source": [
    "# Dataset creation\n",
    "if not os.path.isfile(dataset_csv):\n",
    "    compet_labelmap = read_labelmap_file(compet_labelmap_file)\n",
    "    dataset = ImageDataset.from_json(source_path=snmb_json,\n",
    "                                     images_dir=snmb_images_dir,\n",
    "                                     categories=list(compet_labelmap.values()),\n",
    "                                     exclude_categories=['empty'],\n",
    "                                     mapping_classes=mappings_csv,\n",
    "                                     not_exist_ok=True)\n",
    "    dataset.to_csv(dataset_csv)"
   ]
  },
  {
   "cell_type": "code",
   "execution_count": null,
   "metadata": {
    "tags": [
     "block:detection",
     "limit:nvidia.com/gpu:1"
    ]
   },
   "outputs": [],
   "source": [
    "# Megadetector inference\n",
    "dataset = ImageDataset.from_csv(dataset_csv, images_dir=snmb_images_dir)\n",
    "run_megadetector_inference(dataset=dataset,\n",
    "                           out_predictions_csv=dets_md_csv,\n",
    "                           images_dir=snmb_images_dir,\n",
    "                           model_path=detector_model_path,\n",
    "                           min_score_threshold=min_score_threshold,\n",
    "                           include_id=True,\n",
    "                           keep_image_id=True,\n",
    "                           dataset_partition=None,\n",
    "                           num_gpus_per_node=1)\n"
   ]
  }
 ],
 "metadata": {
  "kernelspec": {
   "display_name": "Python 3",
   "language": "python",
   "name": "python3"
  },
  "kubeflow_notebook": {
   "autosnapshot": false,
   "docker_image": "sipecam/ecoinf-tensorflow1-kale-gpu:0.6.1",
   "experiment": {
    "id": "bb7090c0-c72f-4501-bab3-44f11122e992",
    "name": "ecoinf-exps-1"
   },
   "experiment_name": "ecoinf-exps-1",
   "katib_metadata": {
    "algorithm": {
     "algorithmName": "grid"
    },
    "maxFailedTrialCount": 3,
    "maxTrialCount": 12,
    "objective": {
     "objectiveMetricName": "",
     "type": "minimize"
    },
    "parallelTrialCount": 3,
    "parameters": []
   },
   "katib_run": false,
   "pipeline_description": "Prueba usando el Megadetector sobre un conjunto de fotos del SNMB",
   "pipeline_name": "test-megadet-1",
   "snapshot_volumes": false,
   "steps_defaults": [],
   "volume_access_mode": "rwm",
   "volumes": [
    {
     "annotations": [],
     "mount_point": "/shared_volume",
     "name": "efs",
     "size": 1,
     "size_type": "Gi",
     "snapshot": false,
     "snapshot_name": "",
     "type": "pvc"
    }
   ]
  },
  "language_info": {
   "codemirror_mode": {
    "name": "ipython",
    "version": 3
   },
   "file_extension": ".py",
   "mimetype": "text/x-python",
   "name": "python",
   "nbconvert_exporter": "python",
   "pygments_lexer": "ipython3",
   "version": "3.6.9"
  }
 },
 "nbformat": 4,
 "nbformat_minor": 4
}
